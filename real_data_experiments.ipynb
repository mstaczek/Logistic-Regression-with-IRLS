{
 "cells": [
  {
   "attachments": {},
   "cell_type": "markdown",
   "metadata": {},
   "source": [
    "# Experiments on real datasets \n",
    "\n",
    "Including preprocessing of data and comparison of different models with different metrics.\n",
    "\n",
    "#### Datsets used\n",
    "1. [Breast Cancer Wisconsin (Diagnostic) Data Set](https://archive.ics.uci.edu/ml/datasets/Breast+Cancer+Wisconsin+(Diagnostic))\n",
    "    - 569 samples (no missing values),\n",
    "    - 30 features (removed 9 features with correlation > 0.9), \n",
    "    - 2 classes\n",
    "    - 357 benign, 212 malignant\n",
    "2. [Titanic: Machine Learning from Disaster](https://www.kaggle.com/c/titanic/data)\n",
    "    - 891 samples (no missing values),\n",
    "    - 11 features (removed 2 features with correlation > 0.9), \n",
    "    - 2 classes\n",
    "    - 549 died, 342 survived\n",
    "\n",
    "#### Metrics used\n",
    "1. Accuracy\n",
    "2. Precision\n",
    "3. Recall\n",
    "4. F1 Score\n",
    "5. Bootstrap accuracy\n",
    "\n",
    "#### Models used\n",
    "1. KNN - K-Nearest Neighbors\n",
    "2. LDA - Linear Discriminant Analysis\n",
    "3. Logistic Regression\n",
    "4. Logistic Regression with IRLS (our model)\n",
    "5. Logistic Regression with IRLS (our model) with all possible interactions\n",
    "6. QDA - Quadratic Discriminant Analysis"
   ]
  },
  {
   "attachments": {},
   "cell_type": "markdown",
   "metadata": {},
   "source": [
    "## Models and metrics"
   ]
  },
  {
   "cell_type": "code",
   "execution_count": 1,
   "metadata": {},
   "outputs": [],
   "source": [
    "import pandas as pd\n",
    "\n",
    "from sklearn.discriminant_analysis import LinearDiscriminantAnalysis\n",
    "from sklearn.discriminant_analysis import QuadraticDiscriminantAnalysis\n",
    "from sklearn.linear_model import LogisticRegression\n",
    "from LogisticRegressionIRLS import LR\n",
    "from sklearn.neighbors import KNeighborsClassifier\n",
    "from functools import partial\n",
    "\n",
    "class LRWrapper(LR):\n",
    "    def __init__(self, *args, all_interactions=False, **kwargs):\n",
    "        self.all_interactions = all_interactions\n",
    "        super().__init__(*args, **kwargs)\n",
    "\n",
    "    def fit(self, X, Y):\n",
    "        X = pd.DataFrame(X)\n",
    "        Y = Y.reshape(-1, 1)\n",
    "        if self.all_interactions:\n",
    "            interactions = [[i, j] for i in range(X.shape[1]) for j in range(i+1, X.shape[1])]\n",
    "            super().fit(X, Y, interactions=interactions)\n",
    "        else:\n",
    "            super().fit(X, Y)\n",
    "        return self\n",
    "    \n",
    "    def predict(self, X):\n",
    "        X = pd.DataFrame(X)\n",
    "        Y = super().predict(X)\n",
    "        return Y\n",
    "\n",
    "models = {'LDA': LinearDiscriminantAnalysis,\n",
    "        'QDA': QuadraticDiscriminantAnalysis,\n",
    "        'Logistic ': LogisticRegression,\n",
    "        'Logistic IRLS': partial(LRWrapper, maximisation_minorisation=False),\n",
    "        'Logistic IRLS with interactions': partial(LRWrapper, maximisation_minorisation=False, all_interactions=True),\n",
    "        'KNN': KNeighborsClassifier}"
   ]
  },
  {
   "cell_type": "code",
   "execution_count": 2,
   "metadata": {},
   "outputs": [],
   "source": [
    "from sklearn.utils import resample\n",
    "from sklearn.metrics import precision_score, recall_score, accuracy_score, f1_score\n",
    "\n",
    "def metric_bootstrap(X, Y, model_class, n=10):\n",
    "    model = model_class()\n",
    "    error = 0\n",
    "    lenght_of_y = 0\n",
    "    for i in range(n):\n",
    "        sample_ids = resample(range(len(X)), replace=True, n_samples=len(X))\n",
    "\n",
    "        test_ids = [i for i in range(len(X)) if i not in sample_ids]\n",
    "        if len(sample_ids) == len(test_ids):\n",
    "            i -= 1\n",
    "            continue\n",
    "        lenght_of_y += len(test_ids)\n",
    "        train_ids = [i for i in range(len(X)) if i in sample_ids]\n",
    "        model.fit(X[train_ids], Y[train_ids])\n",
    "        y_pred = model.predict(X[test_ids])\n",
    "        for i in range(len(y_pred)):\n",
    "            if Y[test_ids[i]] != y_pred[i]:\n",
    "                error += 1\n",
    "    error_bootstrap = error / lenght_of_y\n",
    "    accuracy_bootstrap = 1 - error_bootstrap\n",
    "    return accuracy_bootstrap\n",
    "\n",
    "metrics = {'precision': partial(precision_score, zero_division=0),\n",
    "            'recall': recall_score,\n",
    "            'accuracy': accuracy_score,\n",
    "            'f1': f1_score,\n",
    "            'bootstrap': metric_bootstrap}"
   ]
  },
  {
   "attachments": {},
   "cell_type": "markdown",
   "metadata": {},
   "source": [
    "## Dataset 1 - Breast Cancer\n",
    "\n",
    "Source: [UCI Machine Learning Repository](https://archive.ics.uci.edu/ml/datasets/Breast+Cancer+Wisconsin+(Diagnostic))"
   ]
  },
  {
   "cell_type": "code",
   "execution_count": 14,
   "metadata": {},
   "outputs": [],
   "source": [
    "from sklearn.datasets import load_breast_cancer\n",
    "X, Y = load_breast_cancer(return_X_y=True)"
   ]
  },
  {
   "attachments": {},
   "cell_type": "markdown",
   "metadata": {},
   "source": [
    "## Preparing data"
   ]
  },
  {
   "cell_type": "code",
   "execution_count": 15,
   "metadata": {},
   "outputs": [],
   "source": [
    "from sklearn.preprocessing import OneHotEncoder\n",
    "from collinearity import SelectNonCollinear\n",
    "from sklearn.preprocessing import StandardScaler\n",
    "import numpy as np\n",
    "\n",
    "def remove_missing_rows(X, Y):\n",
    "    mask = np.isnan(X).sum(axis=1) == 0\n",
    "    return X[mask], Y[mask]\n",
    "\n",
    "def encode_categorical(X):\n",
    "    mask = np.array([isinstance(x, str) for x in X[0]])\n",
    "    if mask.sum() > 0:    \n",
    "        X_masked = X[:, mask]\n",
    "        enc = OneHotEncoder(handle_unknown='ignore')\n",
    "        enc.fit(X_masked)\n",
    "        X_masked = enc.transform(X_masked).toarray()\n",
    "        X = np.concatenate([X[:, ~mask], X_masked], axis=1)\n",
    "    return X\n",
    "\n",
    "def remove_colinear(X, correlation_threshold=0.9):\n",
    "    # Source: https://github.com/gianlucamalato/collinearity\n",
    "    # 1. Take the couple of features that have the lowest absolute \n",
    "    #    value of the linear correlation coefficient.\n",
    "    # 2. If it's lower than the threshold, consider these features\n",
    "    # 3. Keep adding features as long as the correlation matrix doesn't\n",
    "    #    show off-diagonal elements whose absolute value is greater than the threshold.\n",
    "    selector = SelectNonCollinear(correlation_threshold=correlation_threshold)\n",
    "    selector.fit(X, y=None)\n",
    "    X = selector.transform(X)\n",
    "    columns_selection = selector.get_support()\n",
    "    return X, columns_selection   \n",
    "\n",
    "def scale_features(X):\n",
    "    scaler = StandardScaler()\n",
    "    scaler.fit(X)\n",
    "    X = scaler.transform(X)\n",
    "    return X"
   ]
  },
  {
   "attachments": {},
   "cell_type": "markdown",
   "metadata": {},
   "source": [
    "Before preparation:"
   ]
  },
  {
   "cell_type": "code",
   "execution_count": 16,
   "metadata": {},
   "outputs": [
    {
     "name": "stdout",
     "output_type": "stream",
     "text": [
      "In the raw data, there are 569 observations and 30 features.\n"
     ]
    }
   ],
   "source": [
    "print(f\"In the raw data, there are {X.shape[0]} observations and {X.shape[1]} features.\")"
   ]
  },
  {
   "attachments": {},
   "cell_type": "markdown",
   "metadata": {},
   "source": [
    "Dropping rows with missing values, encoding categorical variables, dropping features with correlation > 0.9, and scaling the data."
   ]
  },
  {
   "cell_type": "code",
   "execution_count": 17,
   "metadata": {},
   "outputs": [],
   "source": [
    "X, Y = remove_missing_rows(X, Y)\n",
    "X = encode_categorical(X)\n",
    "X, columns_selection = remove_colinear(X, correlation_threshold=0.9)"
   ]
  },
  {
   "attachments": {},
   "cell_type": "markdown",
   "metadata": {},
   "source": [
    "After preparation:"
   ]
  },
  {
   "cell_type": "code",
   "execution_count": 18,
   "metadata": {},
   "outputs": [
    {
     "name": "stdout",
     "output_type": "stream",
     "text": [
      "In the prepared data, there are 569 observations and 21 features (removed 9 features).\n"
     ]
    }
   ],
   "source": [
    "print(f\"In the prepared data, there are {X.shape[0]} observations and {X.shape[1]} features (removed {len(columns_selection) - np.array(columns_selection).sum()} features).\")"
   ]
  },
  {
   "attachments": {},
   "cell_type": "markdown",
   "metadata": {},
   "source": [
    "### Train/Test Split"
   ]
  },
  {
   "cell_type": "code",
   "execution_count": 19,
   "metadata": {},
   "outputs": [],
   "source": [
    "from sklearn.model_selection import train_test_split\n",
    "\n",
    "X_train, X_test, Y_train, Y_test = train_test_split(X, Y, test_size=0.2, random_state=42)"
   ]
  },
  {
   "attachments": {},
   "cell_type": "markdown",
   "metadata": {},
   "source": [
    "## Experiments"
   ]
  },
  {
   "attachments": {},
   "cell_type": "markdown",
   "metadata": {},
   "source": [
    "Test run."
   ]
  },
  {
   "cell_type": "code",
   "execution_count": 20,
   "metadata": {},
   "outputs": [
    {
     "data": {
      "text/html": [
       "<div>\n",
       "<style scoped>\n",
       "    .dataframe tbody tr th:only-of-type {\n",
       "        vertical-align: middle;\n",
       "    }\n",
       "\n",
       "    .dataframe tbody tr th {\n",
       "        vertical-align: top;\n",
       "    }\n",
       "\n",
       "    .dataframe thead th {\n",
       "        text-align: right;\n",
       "    }\n",
       "</style>\n",
       "<table border=\"1\" class=\"dataframe\">\n",
       "  <thead>\n",
       "    <tr style=\"text-align: right;\">\n",
       "      <th></th>\n",
       "      <th>model</th>\n",
       "      <th>precision</th>\n",
       "      <th>recall</th>\n",
       "      <th>accuracy</th>\n",
       "      <th>f1</th>\n",
       "      <th>bootstrap accuracy</th>\n",
       "    </tr>\n",
       "  </thead>\n",
       "  <tbody>\n",
       "    <tr>\n",
       "      <th>0</th>\n",
       "      <td>LDA</td>\n",
       "      <td>0.975000</td>\n",
       "      <td>0.987342</td>\n",
       "      <td>0.973684</td>\n",
       "      <td>0.981132</td>\n",
       "      <td>0.949731</td>\n",
       "    </tr>\n",
       "    <tr>\n",
       "      <th>1</th>\n",
       "      <td>QDA</td>\n",
       "      <td>0.985915</td>\n",
       "      <td>0.886076</td>\n",
       "      <td>0.912281</td>\n",
       "      <td>0.933333</td>\n",
       "      <td>0.954861</td>\n",
       "    </tr>\n",
       "    <tr>\n",
       "      <th>2</th>\n",
       "      <td>Logistic</td>\n",
       "      <td>0.949367</td>\n",
       "      <td>0.949367</td>\n",
       "      <td>0.929825</td>\n",
       "      <td>0.949367</td>\n",
       "      <td>0.932749</td>\n",
       "    </tr>\n",
       "    <tr>\n",
       "      <th>3</th>\n",
       "      <td>Logistic IRLS</td>\n",
       "      <td>0.692982</td>\n",
       "      <td>1.000000</td>\n",
       "      <td>0.692982</td>\n",
       "      <td>0.818653</td>\n",
       "      <td>0.510523</td>\n",
       "    </tr>\n",
       "    <tr>\n",
       "      <th>4</th>\n",
       "      <td>Logistic IRLS with interactions</td>\n",
       "      <td>0.692982</td>\n",
       "      <td>1.000000</td>\n",
       "      <td>0.692982</td>\n",
       "      <td>0.818653</td>\n",
       "      <td>0.619249</td>\n",
       "    </tr>\n",
       "    <tr>\n",
       "      <th>5</th>\n",
       "      <td>KNN</td>\n",
       "      <td>0.936709</td>\n",
       "      <td>0.936709</td>\n",
       "      <td>0.912281</td>\n",
       "      <td>0.936709</td>\n",
       "      <td>0.888422</td>\n",
       "    </tr>\n",
       "  </tbody>\n",
       "</table>\n",
       "</div>"
      ],
      "text/plain": [
       "                             model  precision    recall  accuracy        f1  \\\n",
       "0                              LDA   0.975000  0.987342  0.973684  0.981132   \n",
       "1                              QDA   0.985915  0.886076  0.912281  0.933333   \n",
       "2                        Logistic    0.949367  0.949367  0.929825  0.949367   \n",
       "3                    Logistic IRLS   0.692982  1.000000  0.692982  0.818653   \n",
       "4  Logistic IRLS with interactions   0.692982  1.000000  0.692982  0.818653   \n",
       "5                              KNN   0.936709  0.936709  0.912281  0.936709   \n",
       "\n",
       "   bootstrap accuracy  \n",
       "0            0.949731  \n",
       "1            0.954861  \n",
       "2            0.932749  \n",
       "3            0.510523  \n",
       "4            0.619249  \n",
       "5            0.888422  "
      ]
     },
     "execution_count": 20,
     "metadata": {},
     "output_type": "execute_result"
    }
   ],
   "source": [
    "import pandas as pd\n",
    "from warnings import simplefilter\n",
    "from sklearn.exceptions import ConvergenceWarning\n",
    "simplefilter(action='ignore', category=ConvergenceWarning)\n",
    "\n",
    "def train_model(model_class, X_train, X_test, Y_train, Y_test, metrics, model_name='model'):\n",
    "    model = model_class()\n",
    "    model.fit(X_train, Y_train)\n",
    "    Y_pred = model.predict(X_test)\n",
    "    return {'model':model_name} |\\\n",
    "            {metric: metrics[metric](Y_test, Y_pred) for metric in metrics if metric != 'bootstrap'} |\\\n",
    "            {f'bootstrap accuracy': metrics['bootstrap'](X_train, Y_train, model_class)}\n",
    "\n",
    "def train_models(models, X, Y, metrics, test_size):\n",
    "    X_train, X_test, Y_train, Y_test = train_test_split(X, Y, test_size=test_size)\n",
    "    results = []\n",
    "    for model_name, model_class in models.items():\n",
    "        results.append(train_model(model_class, X_train, X_test, Y_train, Y_test, metrics, model_name=model_name))\n",
    "    df = pd.DataFrame(results)\n",
    "    return df\n",
    "\n",
    "df = train_models(models, X, Y, metrics, test_size=0.2)\n",
    "df"
   ]
  },
  {
   "attachments": {},
   "cell_type": "markdown",
   "metadata": {},
   "source": [
    "Repeated 10 times to create boxplots."
   ]
  },
  {
   "cell_type": "code",
   "execution_count": 21,
   "metadata": {},
   "outputs": [
    {
     "name": "stderr",
     "output_type": "stream",
     "text": [
      "100%|██████████| 50/50 [01:09<00:00,  1.40s/it]\n"
     ]
    }
   ],
   "source": [
    "from tqdm import tqdm\n",
    "\n",
    "test_size = 0.6 # it is this high to see differences in the results\n",
    "\n",
    "df_list = []\n",
    "for i in tqdm(range(50)):\n",
    "    df_list.append(train_models(models, X, Y, metrics, test_size))\n",
    "df = pd.concat(df_list, ignore_index=True)\n",
    "df = df.melt(id_vars=['model'], var_name='metric', value_name='value')"
   ]
  },
  {
   "cell_type": "code",
   "execution_count": 22,
   "metadata": {},
   "outputs": [
    {
     "data": {
      "image/png": "[encoded data removed]",
      "text/plain": [
       "<Figure size 700x500 with 1 Axes>"
      ]
     },
     "metadata": {},
     "output_type": "display_data"
    }
   ],
   "source": [
    "import seaborn as sns\n",
    "import matplotlib.pyplot as plt\n",
    "\n",
    "fig, ax = plt.subplots(figsize=(7, 5))\n",
    "sns.boxplot(data=df, ax=ax, x='metric', y='value', hue='model', width=0.5)\n",
    "\n",
    "ax.set_title('Models compared for the Breast Cancer dataset')\n",
    "ax.set_xlabel('Metric (on test set, except for bootstrap))')\n",
    "ax.set_ylabel('Metric value (50 repetitions)')\n",
    "ax.set_xticklabels([x.get_text().capitalize() for x in ax.get_xticklabels()])\n",
    "handles, labels = ax.get_legend_handles_labels()\n",
    "ax.legend(handles=handles, labels=labels, title='Model')\n",
    "fig.savefig('models_comparison_1_breast_cancer.png', dpi=300)\n",
    "plt.show()"
   ]
  },
  {
   "attachments": {},
   "cell_type": "markdown",
   "metadata": {},
   "source": [
    "## Dataset 2 - Titanic\n",
    "\n",
    "Source: [Kaggle](https://www.kaggle.com/c/titanic/data)\n",
    "\n",
    "Columns:\n",
    "- PassengerId - ID of the passenger\n",
    "- Survived - Survival (0 = No, 1 = Yes)\n",
    "- Pclass - Ticket class (1 = 1st, 2 = 2nd, 3 = 3rd)\n",
    "- Name - Name of the passenger\n",
    "- Sex - Sex of the passenger\n",
    "- Age - Age of the passenger\n",
    "- SibSp - Number of siblings/spouses aboard the Titanic\n",
    "- Parch - Number of parents/children aboard the Titanic\n",
    "- Ticket - Ticket number\n",
    "- Fare - Passenger fare\n",
    "- Cabin - Cabin number\n",
    "- Embarked - Port of Embarkation (C = Cherbourg, Q = Queenstown, S = Southampton)"
   ]
  },
  {
   "cell_type": "code",
   "execution_count": 3,
   "metadata": {},
   "outputs": [
    {
     "data": {
      "text/html": [
       "<div>\n",
       "<style scoped>\n",
       "    .dataframe tbody tr th:only-of-type {\n",
       "        vertical-align: middle;\n",
       "    }\n",
       "\n",
       "    .dataframe tbody tr th {\n",
       "        vertical-align: top;\n",
       "    }\n",
       "\n",
       "    .dataframe thead th {\n",
       "        text-align: right;\n",
       "    }\n",
       "</style>\n",
       "<table border=\"1\" class=\"dataframe\">\n",
       "  <thead>\n",
       "    <tr style=\"text-align: right;\">\n",
       "      <th></th>\n",
       "      <th>PassengerId</th>\n",
       "      <th>Survived</th>\n",
       "      <th>Pclass</th>\n",
       "      <th>Name</th>\n",
       "      <th>Sex</th>\n",
       "      <th>Age</th>\n",
       "      <th>SibSp</th>\n",
       "      <th>Parch</th>\n",
       "      <th>Ticket</th>\n",
       "      <th>Fare</th>\n",
       "      <th>Cabin</th>\n",
       "      <th>Embarked</th>\n",
       "    </tr>\n",
       "  </thead>\n",
       "  <tbody>\n",
       "    <tr>\n",
       "      <th>0</th>\n",
       "      <td>1</td>\n",
       "      <td>0</td>\n",
       "      <td>3</td>\n",
       "      <td>Braund, Mr. Owen Harris</td>\n",
       "      <td>male</td>\n",
       "      <td>22.0</td>\n",
       "      <td>1</td>\n",
       "      <td>0</td>\n",
       "      <td>A/5 21171</td>\n",
       "      <td>7.2500</td>\n",
       "      <td>NaN</td>\n",
       "      <td>S</td>\n",
       "    </tr>\n",
       "    <tr>\n",
       "      <th>1</th>\n",
       "      <td>2</td>\n",
       "      <td>1</td>\n",
       "      <td>1</td>\n",
       "      <td>Cumings, Mrs. John Bradley (Florence Briggs Th...</td>\n",
       "      <td>female</td>\n",
       "      <td>38.0</td>\n",
       "      <td>1</td>\n",
       "      <td>0</td>\n",
       "      <td>PC 17599</td>\n",
       "      <td>71.2833</td>\n",
       "      <td>C85</td>\n",
       "      <td>C</td>\n",
       "    </tr>\n",
       "    <tr>\n",
       "      <th>2</th>\n",
       "      <td>3</td>\n",
       "      <td>1</td>\n",
       "      <td>3</td>\n",
       "      <td>Heikkinen, Miss. Laina</td>\n",
       "      <td>female</td>\n",
       "      <td>26.0</td>\n",
       "      <td>0</td>\n",
       "      <td>0</td>\n",
       "      <td>STON/O2. 3101282</td>\n",
       "      <td>7.9250</td>\n",
       "      <td>NaN</td>\n",
       "      <td>S</td>\n",
       "    </tr>\n",
       "    <tr>\n",
       "      <th>3</th>\n",
       "      <td>4</td>\n",
       "      <td>1</td>\n",
       "      <td>1</td>\n",
       "      <td>Futrelle, Mrs. Jacques Heath (Lily May Peel)</td>\n",
       "      <td>female</td>\n",
       "      <td>35.0</td>\n",
       "      <td>1</td>\n",
       "      <td>0</td>\n",
       "      <td>113803</td>\n",
       "      <td>53.1000</td>\n",
       "      <td>C123</td>\n",
       "      <td>S</td>\n",
       "    </tr>\n",
       "    <tr>\n",
       "      <th>4</th>\n",
       "      <td>5</td>\n",
       "      <td>0</td>\n",
       "      <td>3</td>\n",
       "      <td>Allen, Mr. William Henry</td>\n",
       "      <td>male</td>\n",
       "      <td>35.0</td>\n",
       "      <td>0</td>\n",
       "      <td>0</td>\n",
       "      <td>373450</td>\n",
       "      <td>8.0500</td>\n",
       "      <td>NaN</td>\n",
       "      <td>S</td>\n",
       "    </tr>\n",
       "  </tbody>\n",
       "</table>\n",
       "</div>"
      ],
      "text/plain": [
       "   PassengerId  Survived  Pclass  \\\n",
       "0            1         0       3   \n",
       "1            2         1       1   \n",
       "2            3         1       3   \n",
       "3            4         1       1   \n",
       "4            5         0       3   \n",
       "\n",
       "                                                Name     Sex   Age  SibSp  \\\n",
       "0                            Braund, Mr. Owen Harris    male  22.0      1   \n",
       "1  Cumings, Mrs. John Bradley (Florence Briggs Th...  female  38.0      1   \n",
       "2                             Heikkinen, Miss. Laina  female  26.0      0   \n",
       "3       Futrelle, Mrs. Jacques Heath (Lily May Peel)  female  35.0      1   \n",
       "4                           Allen, Mr. William Henry    male  35.0      0   \n",
       "\n",
       "   Parch            Ticket     Fare Cabin Embarked  \n",
       "0      0         A/5 21171   7.2500   NaN        S  \n",
       "1      0          PC 17599  71.2833   C85        C  \n",
       "2      0  STON/O2. 3101282   7.9250   NaN        S  \n",
       "3      0            113803  53.1000  C123        S  \n",
       "4      0            373450   8.0500   NaN        S  "
      ]
     },
     "execution_count": 3,
     "metadata": {},
     "output_type": "execute_result"
    }
   ],
   "source": [
    "import pandas as pd\n",
    "\n",
    "df = pd.read_csv('titanic/train.csv')\n",
    "df.head()"
   ]
  },
  {
   "cell_type": "code",
   "execution_count": 4,
   "metadata": {},
   "outputs": [],
   "source": [
    "X, Y = df.drop('Survived', axis=1).to_numpy(), df['Survived'].to_numpy()"
   ]
  },
  {
   "attachments": {},
   "cell_type": "markdown",
   "metadata": {},
   "source": [
    "## Preparing data\n",
    "\n",
    "Columns removed due to their nature:\n",
    "- PassengerId\n",
    "- Name\n",
    "- Ticket\n",
    "\n",
    "Columns removed due to more than 50% missing values:\n",
    "- Cabin"
   ]
  },
  {
   "cell_type": "code",
   "execution_count": 5,
   "metadata": {},
   "outputs": [],
   "source": [
    "from collinearity import SelectNonCollinear\n",
    "import numpy as np\n",
    "from sklearn.impute import KNNImputer\n",
    "from sklearn.preprocessing import OneHotEncoder\n",
    "\n",
    "def remove_columns(X, column_names):\n",
    "    mask = np.ones(X.shape[1], dtype=bool)\n",
    "    columns = [i for i, name in enumerate(df.drop('Survived', axis=1).columns) if name in column_names]\n",
    "    mask[columns] = False\n",
    "    return X[:, mask]\n",
    "\n",
    "def remove_missing_columns(X, threshold=0.5):\n",
    "    mask = (X != X).sum(axis=0) / X.shape[0] < threshold\n",
    "    return X[:, mask]\n",
    "\n",
    "def remove_missing_rows(X, Y):\n",
    "    mask = (X[:,-1] != X[:,-1])\n",
    "    X = X[~mask]\n",
    "    Y = Y[~mask]\n",
    "    return X, Y\n",
    "\n",
    "def encode_text(X):\n",
    "    X[:,1] = np.where(X[:,1] == 'male', -1, X[:,1])\n",
    "    X[:,1] = np.where(X[:,1] == 'female', 1, X[:,1])\n",
    "    mask = np.array([isinstance(x, str) for x in X[0]])\n",
    "    if mask.sum() > 0:    \n",
    "        X_masked = X[:, mask]\n",
    "        enc = OneHotEncoder(handle_unknown='ignore')\n",
    "        enc.fit(X_masked)\n",
    "        X_masked = enc.transform(X_masked).toarray()\n",
    "        X_masked = X_masked[:, 1:]\n",
    "        X = np.concatenate((X[:, ~mask], X_masked), axis=1)\n",
    "    return X.astype(float)\n",
    "\n",
    "def impute_missing_age(X):\n",
    "    imputer = KNNImputer(n_neighbors=5)\n",
    "    X = imputer.fit_transform(X)\n",
    "    return X\n",
    "\n",
    "def remove_colinear(X, correlation_threshold=0.9):\n",
    "    # Source: https://github.com/gianlucamalato/collinearity\n",
    "    # 1. Take the couple of features that have the lowest absolute \n",
    "    #    value of the linear correlation coefficient.\n",
    "    # 2. If it's lower than the threshold, consider these features\n",
    "    # 3. Keep adding features as long as the correlation matrix doesn't\n",
    "    #    show off-diagonal elements whose absolute value is greater than the threshold.\n",
    "    selector = SelectNonCollinear(correlation_threshold=correlation_threshold)\n",
    "    selector.fit(X, y=None)\n",
    "    X = selector.transform(X)\n",
    "    columns_selection = selector.get_support()\n",
    "    return X.astype(int), columns_selection"
   ]
  },
  {
   "cell_type": "markdown",
   "metadata": {},
   "source": [
    "Before preparation:"
   ]
  },
  {
   "cell_type": "code",
   "execution_count": 6,
   "metadata": {},
   "outputs": [
    {
     "name": "stdout",
     "output_type": "stream",
     "text": [
      "Before processing: rows:  891 columns:  11\n",
      "[1 3 'Braund, Mr. Owen Harris' 'male' 22.0 1 0 'A/5 21171' 7.25 nan 'S'] 0\n",
      "[891 3 'Dooley, Mr. Patrick' 'male' 32.0 0 0 '370376' 7.75 nan 'Q'] 0\n"
     ]
    }
   ],
   "source": [
    "print('Before processing: rows: ', X.shape[0], 'columns: ', X.shape[1])\n",
    "print(X[0], Y[0])\n",
    "print(X[-1], Y[-1])"
   ]
  },
  {
   "attachments": {},
   "cell_type": "markdown",
   "metadata": {},
   "source": [
    "Replace text with numbers."
   ]
  },
  {
   "cell_type": "code",
   "execution_count": 7,
   "metadata": {},
   "outputs": [],
   "source": [
    "X = remove_columns(X, ['Name', 'Ticket', 'PassengerId'])\n",
    "X = remove_missing_columns(X) # will remove the Cabin column\n",
    "X, Y = remove_missing_rows(X, Y) # remove 2 rows in Embarked column\n",
    "X = encode_text(X) # sex to -1, 1, embarked one hot encoding\n",
    "X = impute_missing_age(X) # imputate missing values in Age\n",
    "X, columns_selection = remove_colinear(X, correlation_threshold=0.9)"
   ]
  },
  {
   "cell_type": "markdown",
   "metadata": {},
   "source": [
    "After preparation:"
   ]
  },
  {
   "cell_type": "code",
   "execution_count": 8,
   "metadata": {},
   "outputs": [
    {
     "name": "stdout",
     "output_type": "stream",
     "text": [
      "After processing: rows:  889 columns:  8\n",
      "[ 3 -1 22  1  0  7  0  1] 0\n",
      "[ 3 -1 32  0  0  7  1  0] 0\n"
     ]
    }
   ],
   "source": [
    "print('After processing: rows: ', X.shape[0], 'columns: ', X.shape[1])\n",
    "print(X[0], Y[0])\n",
    "print(X[-1], Y[-1])"
   ]
  },
  {
   "cell_type": "markdown",
   "metadata": {},
   "source": [
    "### Train/Test Split"
   ]
  },
  {
   "cell_type": "code",
   "execution_count": 9,
   "metadata": {},
   "outputs": [],
   "source": [
    "from sklearn.model_selection import train_test_split\n",
    "\n",
    "X_train, X_test, Y_train, Y_test = train_test_split(X, Y, test_size=0.2, random_state=42)"
   ]
  },
  {
   "cell_type": "markdown",
   "metadata": {},
   "source": [
    "## Experiments"
   ]
  },
  {
   "cell_type": "markdown",
   "metadata": {},
   "source": [
    "Test run."
   ]
  },
  {
   "cell_type": "code",
   "execution_count": 10,
   "metadata": {},
   "outputs": [
    {
     "data": {
      "text/html": [
       "<div>\n",
       "<style scoped>\n",
       "    .dataframe tbody tr th:only-of-type {\n",
       "        vertical-align: middle;\n",
       "    }\n",
       "\n",
       "    .dataframe tbody tr th {\n",
       "        vertical-align: top;\n",
       "    }\n",
       "\n",
       "    .dataframe thead th {\n",
       "        text-align: right;\n",
       "    }\n",
       "</style>\n",
       "<table border=\"1\" class=\"dataframe\">\n",
       "  <thead>\n",
       "    <tr style=\"text-align: right;\">\n",
       "      <th></th>\n",
       "      <th>model</th>\n",
       "      <th>precision</th>\n",
       "      <th>recall</th>\n",
       "      <th>accuracy</th>\n",
       "      <th>f1</th>\n",
       "      <th>bootstrap accuracy</th>\n",
       "    </tr>\n",
       "  </thead>\n",
       "  <tbody>\n",
       "    <tr>\n",
       "      <th>0</th>\n",
       "      <td>LDA</td>\n",
       "      <td>0.776119</td>\n",
       "      <td>0.641975</td>\n",
       "      <td>0.752809</td>\n",
       "      <td>0.702703</td>\n",
       "      <td>0.809233</td>\n",
       "    </tr>\n",
       "    <tr>\n",
       "      <th>1</th>\n",
       "      <td>QDA</td>\n",
       "      <td>0.830769</td>\n",
       "      <td>0.666667</td>\n",
       "      <td>0.786517</td>\n",
       "      <td>0.739726</td>\n",
       "      <td>0.805364</td>\n",
       "    </tr>\n",
       "    <tr>\n",
       "      <th>2</th>\n",
       "      <td>Logistic</td>\n",
       "      <td>0.809524</td>\n",
       "      <td>0.629630</td>\n",
       "      <td>0.764045</td>\n",
       "      <td>0.708333</td>\n",
       "      <td>0.814913</td>\n",
       "    </tr>\n",
       "    <tr>\n",
       "      <th>3</th>\n",
       "      <td>Logistic IRLS</td>\n",
       "      <td>0.455056</td>\n",
       "      <td>1.000000</td>\n",
       "      <td>0.455056</td>\n",
       "      <td>0.625483</td>\n",
       "      <td>0.357197</td>\n",
       "    </tr>\n",
       "    <tr>\n",
       "      <th>4</th>\n",
       "      <td>Logistic IRLS with interactions</td>\n",
       "      <td>0.455056</td>\n",
       "      <td>1.000000</td>\n",
       "      <td>0.455056</td>\n",
       "      <td>0.625483</td>\n",
       "      <td>0.379284</td>\n",
       "    </tr>\n",
       "    <tr>\n",
       "      <th>5</th>\n",
       "      <td>KNN</td>\n",
       "      <td>0.730159</td>\n",
       "      <td>0.567901</td>\n",
       "      <td>0.707865</td>\n",
       "      <td>0.638889</td>\n",
       "      <td>0.702868</td>\n",
       "    </tr>\n",
       "  </tbody>\n",
       "</table>\n",
       "</div>"
      ],
      "text/plain": [
       "                             model  precision    recall  accuracy        f1  \\\n",
       "0                              LDA   0.776119  0.641975  0.752809  0.702703   \n",
       "1                              QDA   0.830769  0.666667  0.786517  0.739726   \n",
       "2                        Logistic    0.809524  0.629630  0.764045  0.708333   \n",
       "3                    Logistic IRLS   0.455056  1.000000  0.455056  0.625483   \n",
       "4  Logistic IRLS with interactions   0.455056  1.000000  0.455056  0.625483   \n",
       "5                              KNN   0.730159  0.567901  0.707865  0.638889   \n",
       "\n",
       "   bootstrap accuracy  \n",
       "0            0.809233  \n",
       "1            0.805364  \n",
       "2            0.814913  \n",
       "3            0.357197  \n",
       "4            0.379284  \n",
       "5            0.702868  "
      ]
     },
     "execution_count": 10,
     "metadata": {},
     "output_type": "execute_result"
    }
   ],
   "source": [
    "import pandas as pd\n",
    "from warnings import simplefilter\n",
    "from sklearn.exceptions import ConvergenceWarning\n",
    "simplefilter(action='ignore', category=ConvergenceWarning)\n",
    "\n",
    "def train_model(model_class, X_train, X_test, Y_train, Y_test, metrics, model_name='model'):\n",
    "    model = model_class()\n",
    "    model.fit(X_train, Y_train)\n",
    "    Y_pred = model.predict(X_test)\n",
    "    return {'model':model_name} |\\\n",
    "            {metric: metrics[metric](Y_test, Y_pred) for metric in metrics if metric != 'bootstrap'} |\\\n",
    "            {f'bootstrap accuracy': metrics['bootstrap'](X_train, Y_train, model_class)}\n",
    "\n",
    "def train_models(models, X, Y, metrics, test_size):\n",
    "    X_train, X_test, Y_train, Y_test = train_test_split(X, Y, test_size=test_size)\n",
    "    results = []\n",
    "    for model_name, model_class in models.items():\n",
    "        results.append(train_model(model_class, X_train, X_test, Y_train, Y_test, metrics, model_name=model_name))\n",
    "    df = pd.DataFrame(results)\n",
    "    return df\n",
    "\n",
    "df = train_models(models, X, Y, metrics, test_size=0.2)\n",
    "df"
   ]
  },
  {
   "cell_type": "markdown",
   "metadata": {},
   "source": [
    "Repeated 10 times to create boxplots."
   ]
  },
  {
   "cell_type": "code",
   "execution_count": 11,
   "metadata": {},
   "outputs": [
    {
     "name": "stderr",
     "output_type": "stream",
     "text": [
      "100%|██████████| 50/50 [01:13<00:00,  1.47s/it]\n"
     ]
    }
   ],
   "source": [
    "import warnings\n",
    "warnings.filterwarnings('ignore')\n",
    "from tqdm import tqdm\n",
    "\n",
    "test_size = 0.2\n",
    "\n",
    "df_list = []\n",
    "for i in tqdm(range(50)):\n",
    "    df_list.append(train_models(models, X, Y, metrics, test_size))\n",
    "df = pd.concat(df_list, ignore_index=True)\n",
    "df = df.melt(id_vars=['model'], var_name='metric', value_name='value')"
   ]
  },
  {
   "cell_type": "code",
   "execution_count": 13,
   "metadata": {},
   "outputs": [
    {
     "data": {
      "image/png": "[encoded data removed]",
      "text/plain": [
       "<Figure size 700x500 with 1 Axes>"
      ]
     },
     "metadata": {},
     "output_type": "display_data"
    }
   ],
   "source": [
    "import seaborn as sns\n",
    "import matplotlib.pyplot as plt\n",
    "\n",
    "fig, ax = plt.subplots(figsize=(7, 5))\n",
    "sns.boxplot(data=df, ax=ax, x='metric', y='value', hue='model', width=0.5)\n",
    "\n",
    "ax.set_title('Models compared for the TicTacToe endgame dataset')\n",
    "ax.set_xlabel('Metric (on test set, except for bootstrap))')\n",
    "ax.set_ylabel('Metric value (50 repetitions)')\n",
    "# ax.set_ylim(0.78, 1.01)\n",
    "ax.set_xticklabels([x.get_text().capitalize() for x in ax.get_xticklabels()])\n",
    "handles, labels = ax.get_legend_handles_labels()\n",
    "ax.legend(handles=handles, labels=labels, title='Model')\n",
    "fig.savefig('models_comparison_2_tictactoe.png', dpi=300)\n",
    "plt.show()"
   ]
  }
 ],
 "metadata": {
  "kernelspec": {
   "display_name": "aml_lab",
   "language": "python",
   "name": "python3"
  },
  "language_info": {
   "codemirror_mode": {
    "name": "ipython",
    "version": 3
   },
   "file_extension": ".py",
   "mimetype": "text/x-python",
   "name": "python",
   "nbconvert_exporter": "python",
   "pygments_lexer": "ipython3",
   "version": "3.9.16"
  },
  "orig_nbformat": 4
 },
 "nbformat": 4,
 "nbformat_minor": 2
}
