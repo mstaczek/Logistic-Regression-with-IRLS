{
 "cells": [
  {
   "attachments": {},
   "cell_type": "markdown",
   "metadata": {},
   "source": [
    "# Experiments on real datasets \n",
    "\n",
    "Including preprocessing of data and comparison of different models with different metrics.\n",
    "\n",
    "#### Datsets used\n",
    "1. [Breast Cancer Wisconsin (Diagnostic) Data Set](https://archive.ics.uci.edu/ml/datasets/Breast+Cancer+Wisconsin+(Diagnostic))\n",
    "    - 569 samples (no missing values),\n",
    "    - 30 features (removed 9 features with correlation > 0.9), \n",
    "    - 2 classes\n",
    "    - 357 benign, 212 malignant\n",
    "2. [Tic Tac Toe endgame Data Set](https://archive.ics.uci.edu/ml/datasets/Tic-Tac-Toe+Endgame)\n",
    "    - 958 samples (no missing values)\n",
    "    - 9 features (no features with correlation > 0.9),\n",
    "    - 2 classes\n",
    "\n",
    "#### Metrics used\n",
    "1. Accuracy\n",
    "2. Precision\n",
    "3. Recall\n",
    "4. F1 Score\n",
    "5. Bootstrap accuracy\n",
    "\n",
    "#### Models used\n",
    "4. KNN - K-Nearest Neighbors\n",
    "2. LDA - Linear Discriminant Analysis\n",
    "1. Logistic Regression\n",
    "5. Logistic Regression with IRLS (our model)\n",
    "3. QDA - Quadratic Discriminant Analysis"
   ]
  },
  {
   "attachments": {},
   "cell_type": "markdown",
   "metadata": {},
   "source": [
    "## Dataset 1 - Breast Cancer\n",
    "\n",
    "Source: [UCI Machine Learning Repository](https://archive.ics.uci.edu/ml/datasets/Breast+Cancer+Wisconsin+(Diagnostic))"
   ]
  },
  {
   "cell_type": "code",
   "execution_count": 1,
   "metadata": {},
   "outputs": [],
   "source": [
    "from sklearn.datasets import load_breast_cancer\n",
    "X, Y = load_breast_cancer(return_X_y=True)"
   ]
  },
  {
   "attachments": {},
   "cell_type": "markdown",
   "metadata": {},
   "source": [
    "## Preparing data"
   ]
  },
  {
   "cell_type": "code",
   "execution_count": 2,
   "metadata": {},
   "outputs": [],
   "source": [
    "from sklearn.preprocessing import OneHotEncoder\n",
    "from collinearity import SelectNonCollinear\n",
    "from sklearn.preprocessing import StandardScaler\n",
    "import numpy as np\n",
    "\n",
    "def remove_missing_rows(X, Y):\n",
    "    mask = np.isnan(X).sum(axis=1) == 0\n",
    "    return X[mask], Y[mask]\n",
    "\n",
    "def encode_categorical(X):\n",
    "    mask = np.array([isinstance(x, str) for x in X[0]])\n",
    "    if mask.sum() > 0:    \n",
    "        X = X[:, mask]\n",
    "        enc = OneHotEncoder(handle_unknown='ignore')\n",
    "        enc.fit(X)\n",
    "        X = enc.transform(X).toarray()\n",
    "    return X\n",
    "\n",
    "def remove_colinear(X, correlation_threshold=0.9):\n",
    "    # Source: https://github.com/gianlucamalato/collinearity\n",
    "    # 1. Take the couple of features that have the lowest absolute \n",
    "    #    value of the linear correlation coefficient.\n",
    "    # 2. If it's lower than the threshold, consider these features\n",
    "    # 3. Keep adding features as long as the correlation matrix doesn't\n",
    "    #    show off-diagonal elements whose absolute value is greater than the threshold.\n",
    "    selector = SelectNonCollinear(correlation_threshold=correlation_threshold)\n",
    "    selector.fit(X, y=None)\n",
    "    X = selector.transform(X)\n",
    "    columns_selection = selector.get_support()\n",
    "    return X, columns_selection   \n",
    "\n",
    "def scale_features(X):\n",
    "    scaler = StandardScaler()\n",
    "    scaler.fit(X)\n",
    "    X = scaler.transform(X)\n",
    "    return X"
   ]
  },
  {
   "attachments": {},
   "cell_type": "markdown",
   "metadata": {},
   "source": [
    "Before preparation:"
   ]
  },
  {
   "cell_type": "code",
   "execution_count": 3,
   "metadata": {},
   "outputs": [
    {
     "name": "stdout",
     "output_type": "stream",
     "text": [
      "In the raw data, there are 569 observations and 30 features.\n"
     ]
    }
   ],
   "source": [
    "print(f\"In the raw data, there are {X.shape[0]} observations and {X.shape[1]} features.\")"
   ]
  },
  {
   "attachments": {},
   "cell_type": "markdown",
   "metadata": {},
   "source": [
    "Dropping rows with missing values, encoding categorical variables, dropping features with correlation > 0.9, and scaling the data."
   ]
  },
  {
   "cell_type": "code",
   "execution_count": 4,
   "metadata": {},
   "outputs": [],
   "source": [
    "X, Y = remove_missing_rows(X, Y)\n",
    "X = encode_categorical(X)\n",
    "X, columns_selection = remove_colinear(X, correlation_threshold=0.9)"
   ]
  },
  {
   "attachments": {},
   "cell_type": "markdown",
   "metadata": {},
   "source": [
    "After preparation:"
   ]
  },
  {
   "cell_type": "code",
   "execution_count": 5,
   "metadata": {},
   "outputs": [
    {
     "name": "stdout",
     "output_type": "stream",
     "text": [
      "In the prepared data, there are 569 observations and 21 features (removed 9 features).\n"
     ]
    }
   ],
   "source": [
    "print(f\"In the prepared data, there are {X.shape[0]} observations and {X.shape[1]} features (removed {len(columns_selection) - np.array(columns_selection).sum()} features).\")"
   ]
  },
  {
   "attachments": {},
   "cell_type": "markdown",
   "metadata": {},
   "source": [
    "### Train/Test Split"
   ]
  },
  {
   "cell_type": "code",
   "execution_count": 6,
   "metadata": {},
   "outputs": [],
   "source": [
    "from sklearn.model_selection import train_test_split\n",
    "\n",
    "X_train, X_test, Y_train, Y_test = train_test_split(X, Y, test_size=0.2, random_state=42)"
   ]
  },
  {
   "attachments": {},
   "cell_type": "markdown",
   "metadata": {},
   "source": [
    "## Models and metrics"
   ]
  },
  {
   "cell_type": "code",
   "execution_count": 7,
   "metadata": {},
   "outputs": [],
   "source": [
    "import pandas as pd\n",
    "\n",
    "from sklearn.discriminant_analysis import LinearDiscriminantAnalysis\n",
    "from sklearn.discriminant_analysis import QuadraticDiscriminantAnalysis\n",
    "from sklearn.linear_model import LogisticRegression\n",
    "from LogisticRegressionIRLS import LR\n",
    "from sklearn.neighbors import KNeighborsClassifier\n",
    "from functools import partial\n",
    "\n",
    "class LRWrapper(LR):\n",
    "    def __init__(self, *args, **kwargs):\n",
    "        super().__init__(*args, **kwargs)\n",
    "\n",
    "    def fit(self, X, Y):\n",
    "        X = pd.DataFrame(X)\n",
    "        Y = Y.reshape(-1, 1)\n",
    "        super().fit(X, Y)\n",
    "        return self\n",
    "    \n",
    "    def predict(self, X):\n",
    "        X = pd.DataFrame(X)\n",
    "        Y = super().predict(X)\n",
    "        return Y\n",
    "\n",
    "models = {'LDA': LinearDiscriminantAnalysis,\n",
    "        'QDA': QuadraticDiscriminantAnalysis,\n",
    "        'Logistic Regression': LogisticRegression,\n",
    "        'Logistic Regression IRLS': partial(LRWrapper, maximisation_minorisation=True),\n",
    "        'KNN': KNeighborsClassifier}"
   ]
  },
  {
   "cell_type": "code",
   "execution_count": 8,
   "metadata": {},
   "outputs": [],
   "source": [
    "from sklearn.utils import resample\n",
    "from sklearn.metrics import precision_score, recall_score, accuracy_score, f1_score\n",
    "\n",
    "def metric_bootstrap(X, Y, model_class, n=10):\n",
    "    model = model_class()\n",
    "    error = 0\n",
    "    lenght_of_y = 0\n",
    "    for i in range(n):\n",
    "        sample_ids = resample(range(len(X)), replace=True, n_samples=len(X))\n",
    "\n",
    "        test_ids = [i for i in range(len(X)) if i not in sample_ids]\n",
    "        if len(sample_ids) == len(test_ids):\n",
    "            i -= 1\n",
    "            continue\n",
    "        lenght_of_y += len(test_ids)\n",
    "        train_ids = [i for i in range(len(X)) if i in sample_ids]\n",
    "        model.fit(X[train_ids], Y[train_ids])\n",
    "        y_pred = model.predict(X[test_ids])\n",
    "        for i in range(len(y_pred)):\n",
    "            if Y[test_ids[i]] != y_pred[i]:\n",
    "                error += 1\n",
    "    error_bootstrap = error / lenght_of_y\n",
    "    accuracy_bootstrap = 1 - error_bootstrap\n",
    "    return accuracy_bootstrap\n",
    "\n",
    "metrics = {'precision': partial(precision_score, zero_division=0),\n",
    "            'recall': recall_score,\n",
    "            'accuracy': accuracy_score,\n",
    "            'f1': f1_score,\n",
    "            'bootstrap': metric_bootstrap}"
   ]
  },
  {
   "attachments": {},
   "cell_type": "markdown",
   "metadata": {},
   "source": [
    "## Experiments"
   ]
  },
  {
   "attachments": {},
   "cell_type": "markdown",
   "metadata": {},
   "source": [
    "Test run."
   ]
  },
  {
   "cell_type": "code",
   "execution_count": 9,
   "metadata": {},
   "outputs": [
    {
     "data": {
      "text/html": [
       "<div>\n",
       "<style scoped>\n",
       "    .dataframe tbody tr th:only-of-type {\n",
       "        vertical-align: middle;\n",
       "    }\n",
       "\n",
       "    .dataframe tbody tr th {\n",
       "        vertical-align: top;\n",
       "    }\n",
       "\n",
       "    .dataframe thead th {\n",
       "        text-align: right;\n",
       "    }\n",
       "</style>\n",
       "<table border=\"1\" class=\"dataframe\">\n",
       "  <thead>\n",
       "    <tr style=\"text-align: right;\">\n",
       "      <th></th>\n",
       "      <th>model</th>\n",
       "      <th>precision</th>\n",
       "      <th>recall</th>\n",
       "      <th>accuracy</th>\n",
       "      <th>f1</th>\n",
       "      <th>bootstrap accuracy</th>\n",
       "    </tr>\n",
       "  </thead>\n",
       "  <tbody>\n",
       "    <tr>\n",
       "      <th>0</th>\n",
       "      <td>LDA</td>\n",
       "      <td>0.927711</td>\n",
       "      <td>1.000000</td>\n",
       "      <td>0.947368</td>\n",
       "      <td>0.962500</td>\n",
       "      <td>0.947923</td>\n",
       "    </tr>\n",
       "    <tr>\n",
       "      <th>1</th>\n",
       "      <td>QDA</td>\n",
       "      <td>0.974359</td>\n",
       "      <td>0.987013</td>\n",
       "      <td>0.973684</td>\n",
       "      <td>0.980645</td>\n",
       "      <td>0.943687</td>\n",
       "    </tr>\n",
       "    <tr>\n",
       "      <th>2</th>\n",
       "      <td>Logistic Regression</td>\n",
       "      <td>0.915663</td>\n",
       "      <td>0.987013</td>\n",
       "      <td>0.929825</td>\n",
       "      <td>0.950000</td>\n",
       "      <td>0.927718</td>\n",
       "    </tr>\n",
       "    <tr>\n",
       "      <th>3</th>\n",
       "      <td>Logistic Regression IRLS</td>\n",
       "      <td>0.974359</td>\n",
       "      <td>0.987013</td>\n",
       "      <td>0.973684</td>\n",
       "      <td>0.980645</td>\n",
       "      <td>0.960237</td>\n",
       "    </tr>\n",
       "    <tr>\n",
       "      <th>4</th>\n",
       "      <td>KNN</td>\n",
       "      <td>0.901235</td>\n",
       "      <td>0.948052</td>\n",
       "      <td>0.894737</td>\n",
       "      <td>0.924051</td>\n",
       "      <td>0.892899</td>\n",
       "    </tr>\n",
       "  </tbody>\n",
       "</table>\n",
       "</div>"
      ],
      "text/plain": [
       "                      model  precision    recall  accuracy        f1  \\\n",
       "0                       LDA   0.927711  1.000000  0.947368  0.962500   \n",
       "1                       QDA   0.974359  0.987013  0.973684  0.980645   \n",
       "2       Logistic Regression   0.915663  0.987013  0.929825  0.950000   \n",
       "3  Logistic Regression IRLS   0.974359  0.987013  0.973684  0.980645   \n",
       "4                       KNN   0.901235  0.948052  0.894737  0.924051   \n",
       "\n",
       "   bootstrap accuracy  \n",
       "0            0.947923  \n",
       "1            0.943687  \n",
       "2            0.927718  \n",
       "3            0.960237  \n",
       "4            0.892899  "
      ]
     },
     "execution_count": 9,
     "metadata": {},
     "output_type": "execute_result"
    }
   ],
   "source": [
    "import pandas as pd\n",
    "from warnings import simplefilter\n",
    "from sklearn.exceptions import ConvergenceWarning\n",
    "simplefilter(action='ignore', category=ConvergenceWarning)\n",
    "\n",
    "def train_model(model_class, X_train, X_test, Y_train, Y_test, metrics, model_name='model'):\n",
    "    model = model_class()\n",
    "    model.fit(X_train, Y_train)\n",
    "    Y_pred = model.predict(X_test)\n",
    "    return {'model':model_name} |\\\n",
    "            {metric: metrics[metric](Y_test, Y_pred) for metric in metrics if metric != 'bootstrap'} |\\\n",
    "            {f'bootstrap accuracy': metrics['bootstrap'](X_train, Y_train, model_class)}\n",
    "\n",
    "def train_models(models, X, Y, metrics, test_size):\n",
    "    X_train, X_test, Y_train, Y_test = train_test_split(X, Y, test_size=test_size)\n",
    "    results = []\n",
    "    for model_name, model_class in models.items():\n",
    "        results.append(train_model(model_class, X_train, X_test, Y_train, Y_test, metrics, model_name=model_name))\n",
    "    df = pd.DataFrame(results)\n",
    "    return df\n",
    "\n",
    "df = train_models(models, X, Y, metrics, test_size=0.2)\n",
    "df"
   ]
  },
  {
   "attachments": {},
   "cell_type": "markdown",
   "metadata": {},
   "source": [
    "Repeated 10 times to create boxplots."
   ]
  },
  {
   "cell_type": "code",
   "execution_count": 10,
   "metadata": {},
   "outputs": [
    {
     "name": "stderr",
     "output_type": "stream",
     "text": [
      "100%|██████████| 50/50 [01:54<00:00,  2.29s/it]\n"
     ]
    }
   ],
   "source": [
    "from tqdm import tqdm\n",
    "\n",
    "test_size = 0.6 # it is this high to see differences in the results\n",
    "\n",
    "df_list = []\n",
    "for i in tqdm(range(50)):\n",
    "    df_list.append(train_models(models, X, Y, metrics, test_size))\n",
    "df = pd.concat(df_list, ignore_index=True)\n",
    "df = df.melt(id_vars=['model'], var_name='metric', value_name='value')"
   ]
  },
  {
   "cell_type": "code",
   "execution_count": 11,
   "metadata": {},
   "outputs": [
    {
     "data": {
      "image/png": "[encoded data removed]",
      "text/plain": [
       "<Figure size 700x500 with 1 Axes>"
      ]
     },
     "metadata": {},
     "output_type": "display_data"
    }
   ],
   "source": [
    "import seaborn as sns\n",
    "import matplotlib.pyplot as plt\n",
    "\n",
    "fig, ax = plt.subplots(figsize=(7, 5))\n",
    "sns.boxplot(data=df, ax=ax, x='metric', y='value', hue='model', width=0.5)\n",
    "\n",
    "ax.set_title('Models compared for the Breast Cancer dataset')\n",
    "ax.set_xlabel('Metric (on test set, except for bootstrap))')\n",
    "ax.set_ylabel('Metric value (50 repetitions)')\n",
    "ax.set_xticklabels([x.get_text().capitalize() for x in ax.get_xticklabels()])\n",
    "handles, labels = ax.get_legend_handles_labels()\n",
    "ax.legend(handles=handles, labels=labels, title='Model')\n",
    "fig.savefig('models_comparison_1_breast_cancer.png', dpi=300)\n",
    "plt.show()"
   ]
  },
  {
   "attachments": {},
   "cell_type": "markdown",
   "metadata": {},
   "source": [
    "## Dataset 2 - Tic Tac Toe\n",
    "\n",
    "Source: [UCI Machine Learning Repository](https://archive.ics.uci.edu/ml/datasets/Tic-Tac-Toe+Endgame)"
   ]
  },
  {
   "cell_type": "code",
   "execution_count": 12,
   "metadata": {},
   "outputs": [
    {
     "name": "stdout",
     "output_type": "stream",
     "text": [
      "--2023-04-11 12:44:51--  https://archive.ics.uci.edu/ml/machine-learning-databases/tic-tac-toe/tic-tac-toe.data\n",
      "Resolving archive.ics.uci.edu (archive.ics.uci.edu)... 128.195.10.252\n",
      "Connecting to archive.ics.uci.edu (archive.ics.uci.edu)|128.195.10.252|:443... connected.\n",
      "HTTP request sent, awaiting response... 200 OK\n",
      "Length: 25866 (25K) [application/x-httpd-php]\n",
      "Saving to: ‘tic-tac-toe.data.6’\n",
      "\n",
      "tic-tac-toe.data.6  100%[===================>]  25.26K   122KB/s    in 0.2s    \n",
      "\n",
      "2023-04-11 12:44:52 (122 KB/s) - ‘tic-tac-toe.data.6’ saved [25866/25866]\n",
      "\n"
     ]
    }
   ],
   "source": [
    "!wget https://archive.ics.uci.edu/ml/machine-learning-databases/tic-tac-toe/tic-tac-toe.data"
   ]
  },
  {
   "cell_type": "code",
   "execution_count": 13,
   "metadata": {},
   "outputs": [
    {
     "data": {
      "text/html": [
       "<div>\n",
       "<style scoped>\n",
       "    .dataframe tbody tr th:only-of-type {\n",
       "        vertical-align: middle;\n",
       "    }\n",
       "\n",
       "    .dataframe tbody tr th {\n",
       "        vertical-align: top;\n",
       "    }\n",
       "\n",
       "    .dataframe thead th {\n",
       "        text-align: right;\n",
       "    }\n",
       "</style>\n",
       "<table border=\"1\" class=\"dataframe\">\n",
       "  <thead>\n",
       "    <tr style=\"text-align: right;\">\n",
       "      <th></th>\n",
       "      <th>top-left-square</th>\n",
       "      <th>top-middle-square</th>\n",
       "      <th>top-right-square</th>\n",
       "      <th>middle-left-square</th>\n",
       "      <th>middle-middle-square</th>\n",
       "      <th>middle-right-square</th>\n",
       "      <th>bottom-left-square</th>\n",
       "      <th>bottom-middle-square</th>\n",
       "      <th>bottom-right-square</th>\n",
       "      <th>class</th>\n",
       "    </tr>\n",
       "  </thead>\n",
       "  <tbody>\n",
       "    <tr>\n",
       "      <th>0</th>\n",
       "      <td>x</td>\n",
       "      <td>x</td>\n",
       "      <td>x</td>\n",
       "      <td>x</td>\n",
       "      <td>o</td>\n",
       "      <td>o</td>\n",
       "      <td>x</td>\n",
       "      <td>o</td>\n",
       "      <td>o</td>\n",
       "      <td>positive</td>\n",
       "    </tr>\n",
       "    <tr>\n",
       "      <th>1</th>\n",
       "      <td>x</td>\n",
       "      <td>x</td>\n",
       "      <td>x</td>\n",
       "      <td>x</td>\n",
       "      <td>o</td>\n",
       "      <td>o</td>\n",
       "      <td>o</td>\n",
       "      <td>x</td>\n",
       "      <td>o</td>\n",
       "      <td>positive</td>\n",
       "    </tr>\n",
       "    <tr>\n",
       "      <th>2</th>\n",
       "      <td>x</td>\n",
       "      <td>x</td>\n",
       "      <td>x</td>\n",
       "      <td>x</td>\n",
       "      <td>o</td>\n",
       "      <td>o</td>\n",
       "      <td>o</td>\n",
       "      <td>o</td>\n",
       "      <td>x</td>\n",
       "      <td>positive</td>\n",
       "    </tr>\n",
       "    <tr>\n",
       "      <th>3</th>\n",
       "      <td>x</td>\n",
       "      <td>x</td>\n",
       "      <td>x</td>\n",
       "      <td>x</td>\n",
       "      <td>o</td>\n",
       "      <td>o</td>\n",
       "      <td>o</td>\n",
       "      <td>b</td>\n",
       "      <td>b</td>\n",
       "      <td>positive</td>\n",
       "    </tr>\n",
       "    <tr>\n",
       "      <th>4</th>\n",
       "      <td>x</td>\n",
       "      <td>x</td>\n",
       "      <td>x</td>\n",
       "      <td>x</td>\n",
       "      <td>o</td>\n",
       "      <td>o</td>\n",
       "      <td>b</td>\n",
       "      <td>o</td>\n",
       "      <td>b</td>\n",
       "      <td>positive</td>\n",
       "    </tr>\n",
       "  </tbody>\n",
       "</table>\n",
       "</div>"
      ],
      "text/plain": [
       "  top-left-square top-middle-square top-right-square middle-left-square  \\\n",
       "0               x                 x                x                  x   \n",
       "1               x                 x                x                  x   \n",
       "2               x                 x                x                  x   \n",
       "3               x                 x                x                  x   \n",
       "4               x                 x                x                  x   \n",
       "\n",
       "  middle-middle-square middle-right-square bottom-left-square  \\\n",
       "0                    o                   o                  x   \n",
       "1                    o                   o                  o   \n",
       "2                    o                   o                  o   \n",
       "3                    o                   o                  o   \n",
       "4                    o                   o                  b   \n",
       "\n",
       "  bottom-middle-square bottom-right-square     class  \n",
       "0                    o                   o  positive  \n",
       "1                    x                   o  positive  \n",
       "2                    o                   x  positive  \n",
       "3                    b                   b  positive  \n",
       "4                    o                   b  positive  "
      ]
     },
     "execution_count": 13,
     "metadata": {},
     "output_type": "execute_result"
    }
   ],
   "source": [
    "import pandas as pd\n",
    "\n",
    "df = pd.read_csv('tic-tac-toe.data', header=None)\n",
    "df.columns = ['top-left-square', 'top-middle-square', 'top-right-square', 'middle-left-square', 'middle-middle-square', 'middle-right-square', 'bottom-left-square', 'bottom-middle-square', 'bottom-right-square', 'class']\n",
    "df.head()"
   ]
  },
  {
   "cell_type": "code",
   "execution_count": 14,
   "metadata": {},
   "outputs": [],
   "source": [
    "X, Y = df.drop('class', axis=1).to_numpy(), df['class'].to_numpy()"
   ]
  },
  {
   "cell_type": "markdown",
   "metadata": {},
   "source": [
    "## Preparing data"
   ]
  },
  {
   "cell_type": "code",
   "execution_count": 15,
   "metadata": {},
   "outputs": [],
   "source": [
    "from collinearity import SelectNonCollinear\n",
    "import numpy as np\n",
    "\n",
    "\n",
    "def remove_missing_rows(X, Y):\n",
    "    mask = np.isnan(X).sum(axis=1) == 0\n",
    "    return X[mask], Y[mask]\n",
    "\n",
    "def encode_state_to_numbers(X):\n",
    "    # replace 'x' with -1, 'b' with 0 and 'o' with 1\n",
    "    X = np.where(X == 'x', -1, X)\n",
    "    X = np.where(X == 'b', 0, X)\n",
    "    X = np.where(X == 'o', 1, X)\n",
    "    return X.astype(int)\n",
    "\n",
    "def class_to_numbers(Y):\n",
    "    Y = np.where(Y == 'negative', 0, Y)\n",
    "    Y = np.where(Y == 'positive', 1, Y)\n",
    "    return Y.astype(int)\n",
    "\n",
    "def remove_colinear(X, correlation_threshold=0.9):\n",
    "    # Source: https://github.com/gianlucamalato/collinearity\n",
    "    # 1. Take the couple of features that have the lowest absolute \n",
    "    #    value of the linear correlation coefficient.\n",
    "    # 2. If it's lower than the threshold, consider these features\n",
    "    # 3. Keep adding features as long as the correlation matrix doesn't\n",
    "    #    show off-diagonal elements whose absolute value is greater than the threshold.\n",
    "    selector = SelectNonCollinear(correlation_threshold=correlation_threshold)\n",
    "    selector.fit(X, y=None)\n",
    "    X = selector.transform(X)\n",
    "    columns_selection = selector.get_support()\n",
    "    return X.astype(int), columns_selection"
   ]
  },
  {
   "cell_type": "markdown",
   "metadata": {},
   "source": [
    "Before preparation:"
   ]
  },
  {
   "cell_type": "code",
   "execution_count": 16,
   "metadata": {},
   "outputs": [
    {
     "name": "stdout",
     "output_type": "stream",
     "text": [
      "Before processing: rows:  958 columns:  9\n",
      "['x' 'x' 'x' 'x' 'o' 'o' 'x' 'o' 'o'] positive\n",
      "['o' 'o' 'x' 'x' 'x' 'o' 'o' 'x' 'x'] negative\n"
     ]
    }
   ],
   "source": [
    "print('Before processing: rows: ', X.shape[0], 'columns: ', X.shape[1])\n",
    "print(X[0], Y[0])\n",
    "print(X[-1], Y[-1])"
   ]
  },
  {
   "attachments": {},
   "cell_type": "markdown",
   "metadata": {},
   "source": [
    "Replace text with numbers."
   ]
  },
  {
   "cell_type": "code",
   "execution_count": 17,
   "metadata": {},
   "outputs": [],
   "source": [
    "X = encode_state_to_numbers(X)\n",
    "Y = class_to_numbers(Y)\n",
    "X, Y = remove_missing_rows(X, Y)\n",
    "X, columns_selection = remove_colinear(X, correlation_threshold=0.9)"
   ]
  },
  {
   "cell_type": "markdown",
   "metadata": {},
   "source": [
    "After preparation:"
   ]
  },
  {
   "cell_type": "code",
   "execution_count": 18,
   "metadata": {},
   "outputs": [
    {
     "name": "stdout",
     "output_type": "stream",
     "text": [
      "After processing: rows:  958 columns:  9\n",
      "[-1 -1 -1 -1  1  1 -1  1  1] 1\n",
      "[ 1  1 -1 -1 -1  1  1 -1 -1] 0\n"
     ]
    }
   ],
   "source": [
    "print('After processing: rows: ', X.shape[0], 'columns: ', X.shape[1])\n",
    "print(X[0], Y[0])\n",
    "print(X[-1], Y[-1])"
   ]
  },
  {
   "cell_type": "markdown",
   "metadata": {},
   "source": [
    "### Train/Test Split"
   ]
  },
  {
   "cell_type": "code",
   "execution_count": 19,
   "metadata": {},
   "outputs": [],
   "source": [
    "from sklearn.model_selection import train_test_split\n",
    "\n",
    "X_train, X_test, Y_train, Y_test = train_test_split(X, Y, test_size=0.2, random_state=42)"
   ]
  },
  {
   "cell_type": "markdown",
   "metadata": {},
   "source": [
    "## Models and metrics"
   ]
  },
  {
   "cell_type": "code",
   "execution_count": 20,
   "metadata": {},
   "outputs": [],
   "source": [
    "import pandas as pd\n",
    "\n",
    "from sklearn.discriminant_analysis import LinearDiscriminantAnalysis\n",
    "from sklearn.discriminant_analysis import QuadraticDiscriminantAnalysis\n",
    "from sklearn.linear_model import LogisticRegression\n",
    "from LogisticRegressionIRLS import LR\n",
    "from sklearn.neighbors import KNeighborsClassifier\n",
    "from functools import partial\n",
    "\n",
    "class LRWrapper(LR):\n",
    "    def __init__(self, *args, **kwargs):\n",
    "        super().__init__(*args, **kwargs)\n",
    "\n",
    "    def fit(self, X, Y):\n",
    "        X = pd.DataFrame(X)\n",
    "        Y = Y.reshape(-1, 1)\n",
    "        super().fit(X, Y)\n",
    "        return self\n",
    "    \n",
    "    def predict(self, X):\n",
    "        X = pd.DataFrame(X)\n",
    "        Y = super().predict(X)\n",
    "        return Y\n",
    "\n",
    "models = {'LDA': LinearDiscriminantAnalysis,\n",
    "        'QDA': QuadraticDiscriminantAnalysis,\n",
    "        'Logistic Regression': LogisticRegression,\n",
    "        'Logistic Regression IRLS': partial(LRWrapper, maximisation_minorisation=True),\n",
    "        'KNN': KNeighborsClassifier}"
   ]
  },
  {
   "cell_type": "code",
   "execution_count": 21,
   "metadata": {},
   "outputs": [],
   "source": [
    "from sklearn.utils import resample\n",
    "from sklearn.metrics import precision_score, recall_score, accuracy_score, f1_score\n",
    "\n",
    "def metric_bootstrap(X, Y, model_class, n=10):\n",
    "    model = model_class()\n",
    "    error = 0\n",
    "    lenght_of_y = 0\n",
    "    for i in range(n):\n",
    "        sample_ids = resample(range(len(X)), replace=True, n_samples=len(X))\n",
    "\n",
    "        test_ids = [i for i in range(len(X)) if i not in sample_ids]\n",
    "        if len(sample_ids) == len(test_ids):\n",
    "            i -= 1\n",
    "            continue\n",
    "        lenght_of_y += len(test_ids)\n",
    "        train_ids = [i for i in range(len(X)) if i in sample_ids]\n",
    "        model.fit(X[train_ids], Y[train_ids])\n",
    "        y_pred = model.predict(X[test_ids])\n",
    "        for i in range(len(y_pred)):\n",
    "            if Y[test_ids[i]] != y_pred[i]:\n",
    "                error += 1\n",
    "    error_bootstrap = error / lenght_of_y\n",
    "    accuracy_bootstrap = 1 - error_bootstrap\n",
    "    return accuracy_bootstrap\n",
    "\n",
    "metrics = {'precision': partial(precision_score, zero_division=0),\n",
    "            'recall': recall_score,\n",
    "            'accuracy': accuracy_score,\n",
    "            'f1': f1_score,\n",
    "            'bootstrap': metric_bootstrap}"
   ]
  },
  {
   "cell_type": "markdown",
   "metadata": {},
   "source": [
    "## Experiments"
   ]
  },
  {
   "cell_type": "markdown",
   "metadata": {},
   "source": [
    "Test run."
   ]
  },
  {
   "cell_type": "code",
   "execution_count": 22,
   "metadata": {},
   "outputs": [
    {
     "name": "stderr",
     "output_type": "stream",
     "text": [
      "/home/thispc/Data/ub_programs/python_venvs/aml/lib/python3.9/site-packages/sklearn/discriminant_analysis.py:926: UserWarning: Variables are collinear\n",
      "  warnings.warn(\"Variables are collinear\")\n",
      "/home/thispc/Data/ub_programs/python_venvs/aml/lib/python3.9/site-packages/sklearn/discriminant_analysis.py:926: UserWarning: Variables are collinear\n",
      "  warnings.warn(\"Variables are collinear\")\n",
      "/home/thispc/Data/ub_programs/python_venvs/aml/lib/python3.9/site-packages/sklearn/discriminant_analysis.py:926: UserWarning: Variables are collinear\n",
      "  warnings.warn(\"Variables are collinear\")\n",
      "/home/thispc/Data/ub_programs/python_venvs/aml/lib/python3.9/site-packages/sklearn/discriminant_analysis.py:926: UserWarning: Variables are collinear\n",
      "  warnings.warn(\"Variables are collinear\")\n",
      "/home/thispc/Data/ub_programs/python_venvs/aml/lib/python3.9/site-packages/sklearn/discriminant_analysis.py:926: UserWarning: Variables are collinear\n",
      "  warnings.warn(\"Variables are collinear\")\n",
      "/home/thispc/Data/ub_programs/python_venvs/aml/lib/python3.9/site-packages/sklearn/discriminant_analysis.py:926: UserWarning: Variables are collinear\n",
      "  warnings.warn(\"Variables are collinear\")\n",
      "/home/thispc/Data/ub_programs/python_venvs/aml/lib/python3.9/site-packages/sklearn/discriminant_analysis.py:926: UserWarning: Variables are collinear\n",
      "  warnings.warn(\"Variables are collinear\")\n",
      "/home/thispc/Data/ub_programs/python_venvs/aml/lib/python3.9/site-packages/sklearn/discriminant_analysis.py:926: UserWarning: Variables are collinear\n",
      "  warnings.warn(\"Variables are collinear\")\n",
      "/home/thispc/Data/ub_programs/python_venvs/aml/lib/python3.9/site-packages/sklearn/discriminant_analysis.py:926: UserWarning: Variables are collinear\n",
      "  warnings.warn(\"Variables are collinear\")\n",
      "/home/thispc/Data/ub_programs/python_venvs/aml/lib/python3.9/site-packages/sklearn/discriminant_analysis.py:926: UserWarning: Variables are collinear\n",
      "  warnings.warn(\"Variables are collinear\")\n",
      "/home/thispc/Data/ub_programs/python_venvs/aml/lib/python3.9/site-packages/sklearn/discriminant_analysis.py:926: UserWarning: Variables are collinear\n",
      "  warnings.warn(\"Variables are collinear\")\n"
     ]
    },
    {
     "data": {
      "text/html": [
       "<div>\n",
       "<style scoped>\n",
       "    .dataframe tbody tr th:only-of-type {\n",
       "        vertical-align: middle;\n",
       "    }\n",
       "\n",
       "    .dataframe tbody tr th {\n",
       "        vertical-align: top;\n",
       "    }\n",
       "\n",
       "    .dataframe thead th {\n",
       "        text-align: right;\n",
       "    }\n",
       "</style>\n",
       "<table border=\"1\" class=\"dataframe\">\n",
       "  <thead>\n",
       "    <tr style=\"text-align: right;\">\n",
       "      <th></th>\n",
       "      <th>model</th>\n",
       "      <th>precision</th>\n",
       "      <th>recall</th>\n",
       "      <th>accuracy</th>\n",
       "      <th>f1</th>\n",
       "      <th>bootstrap accuracy</th>\n",
       "    </tr>\n",
       "  </thead>\n",
       "  <tbody>\n",
       "    <tr>\n",
       "      <th>0</th>\n",
       "      <td>LDA</td>\n",
       "      <td>0.974138</td>\n",
       "      <td>1.000000</td>\n",
       "      <td>0.982619</td>\n",
       "      <td>0.986900</td>\n",
       "      <td>0.899135</td>\n",
       "    </tr>\n",
       "    <tr>\n",
       "      <th>1</th>\n",
       "      <td>QDA</td>\n",
       "      <td>0.974138</td>\n",
       "      <td>1.000000</td>\n",
       "      <td>0.982619</td>\n",
       "      <td>0.986900</td>\n",
       "      <td>0.986595</td>\n",
       "    </tr>\n",
       "    <tr>\n",
       "      <th>2</th>\n",
       "      <td>Logistic Regression</td>\n",
       "      <td>0.826230</td>\n",
       "      <td>0.892035</td>\n",
       "      <td>0.806489</td>\n",
       "      <td>0.857872</td>\n",
       "      <td>0.796196</td>\n",
       "    </tr>\n",
       "    <tr>\n",
       "      <th>3</th>\n",
       "      <td>Logistic Regression IRLS</td>\n",
       "      <td>0.974138</td>\n",
       "      <td>1.000000</td>\n",
       "      <td>0.982619</td>\n",
       "      <td>0.986900</td>\n",
       "      <td>0.985955</td>\n",
       "    </tr>\n",
       "    <tr>\n",
       "      <th>4</th>\n",
       "      <td>KNN</td>\n",
       "      <td>0.860197</td>\n",
       "      <td>0.925664</td>\n",
       "      <td>0.852839</td>\n",
       "      <td>0.891731</td>\n",
       "      <td>0.747126</td>\n",
       "    </tr>\n",
       "  </tbody>\n",
       "</table>\n",
       "</div>"
      ],
      "text/plain": [
       "                      model  precision    recall  accuracy        f1  \\\n",
       "0                       LDA   0.974138  1.000000  0.982619  0.986900   \n",
       "1                       QDA   0.974138  1.000000  0.982619  0.986900   \n",
       "2       Logistic Regression   0.826230  0.892035  0.806489  0.857872   \n",
       "3  Logistic Regression IRLS   0.974138  1.000000  0.982619  0.986900   \n",
       "4                       KNN   0.860197  0.925664  0.852839  0.891731   \n",
       "\n",
       "   bootstrap accuracy  \n",
       "0            0.899135  \n",
       "1            0.986595  \n",
       "2            0.796196  \n",
       "3            0.985955  \n",
       "4            0.747126  "
      ]
     },
     "execution_count": 22,
     "metadata": {},
     "output_type": "execute_result"
    }
   ],
   "source": [
    "import pandas as pd\n",
    "from warnings import simplefilter\n",
    "from sklearn.exceptions import ConvergenceWarning\n",
    "simplefilter(action='ignore', category=ConvergenceWarning)\n",
    "\n",
    "def train_model(model_class, X_train, X_test, Y_train, Y_test, metrics, model_name='model'):\n",
    "    model = model_class()\n",
    "    model.fit(X_train, Y_train)\n",
    "    Y_pred = model.predict(X_test)\n",
    "    return {'model':model_name} |\\\n",
    "            {metric: metrics[metric](Y_test, Y_pred) for metric in metrics if metric != 'bootstrap'} |\\\n",
    "            {f'bootstrap accuracy': metrics['bootstrap'](X_train, Y_train, model_class)}\n",
    "\n",
    "def train_models(models, X, Y, metrics, test_size):\n",
    "    X_train, X_test, Y_train, Y_test = train_test_split(X, Y, test_size=test_size)\n",
    "    results = []\n",
    "    for model_name, model_class in models.items():\n",
    "        results.append(train_model(model_class, X_train, X_test, Y_train, Y_test, metrics, model_name=model_name))\n",
    "    df = pd.DataFrame(results)\n",
    "    return df\n",
    "\n",
    "df = train_models(models, X, Y, metrics, test_size=0.9)\n",
    "df"
   ]
  },
  {
   "cell_type": "markdown",
   "metadata": {},
   "source": [
    "Repeated 10 times to create boxplots."
   ]
  },
  {
   "cell_type": "code",
   "execution_count": 23,
   "metadata": {},
   "outputs": [
    {
     "name": "stderr",
     "output_type": "stream",
     "text": [
      "100%|██████████| 50/50 [00:56<00:00,  1.14s/it]\n"
     ]
    }
   ],
   "source": [
    "import warnings\n",
    "warnings.filterwarnings('ignore')\n",
    "from tqdm import tqdm\n",
    "\n",
    "test_size = 0.85 # it is this high to see differences in the results\n",
    "\n",
    "df_list = []\n",
    "for i in tqdm(range(50)):\n",
    "    df_list.append(train_models(models, X, Y, metrics, test_size))\n",
    "df = pd.concat(df_list, ignore_index=True)\n",
    "df = df.melt(id_vars=['model'], var_name='metric', value_name='value')"
   ]
  },
  {
   "cell_type": "code",
   "execution_count": 24,
   "metadata": {},
   "outputs": [
    {
     "data": {
      "image/png": "[encoded data removed]",
      "text/plain": [
       "<Figure size 700x500 with 1 Axes>"
      ]
     },
     "metadata": {},
     "output_type": "display_data"
    }
   ],
   "source": [
    "import seaborn as sns\n",
    "import matplotlib.pyplot as plt\n",
    "\n",
    "fig, ax = plt.subplots(figsize=(7, 5))\n",
    "sns.boxplot(data=df, ax=ax, x='metric', y='value', hue='model', width=0.5)\n",
    "\n",
    "ax.set_title('Models compared for the TicTacToe endgame dataset')\n",
    "ax.set_xlabel('Metric (on test set, except for bootstrap))')\n",
    "ax.set_ylabel('Metric value (50 repetitions)')\n",
    "ax.set_ylim(0.78, 1.01)\n",
    "ax.set_xticklabels([x.get_text().capitalize() for x in ax.get_xticklabels()])\n",
    "handles, labels = ax.get_legend_handles_labels()\n",
    "ax.legend(handles=handles, labels=labels, title='Model')\n",
    "fig.savefig('models_comparison_2_tictactoe.png', dpi=300)\n",
    "plt.show()"
   ]
  }
 ],
 "metadata": {
  "kernelspec": {
   "display_name": "aml_lab",
   "language": "python",
   "name": "python3"
  },
  "language_info": {
   "codemirror_mode": {
    "name": "ipython",
    "version": 3
   },
   "file_extension": ".py",
   "mimetype": "text/x-python",
   "name": "python",
   "nbconvert_exporter": "python",
   "pygments_lexer": "ipython3",
   "version": "3.9.16"
  },
  "orig_nbformat": 4
 },
 "nbformat": 4,
 "nbformat_minor": 2
}
