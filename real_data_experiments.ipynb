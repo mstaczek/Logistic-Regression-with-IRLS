{
 "cells": [
  {
   "attachments": {},
   "cell_type": "markdown",
   "metadata": {},
   "source": [
    "# Experiments"
   ]
  },
  {
   "attachments": {},
   "cell_type": "markdown",
   "metadata": {},
   "source": [
    "## Dataset 1 - Breast Cancer"
   ]
  },
  {
   "cell_type": "code",
   "execution_count": 51,
   "metadata": {},
   "outputs": [],
   "source": [
    "from sklearn.datasets import load_breast_cancer\n",
    "X, Y = load_breast_cancer(return_X_y=True)"
   ]
  },
  {
   "attachments": {},
   "cell_type": "markdown",
   "metadata": {},
   "source": [
    "## Preparing data"
   ]
  },
  {
   "cell_type": "code",
   "execution_count": 52,
   "metadata": {},
   "outputs": [],
   "source": [
    "from sklearn.preprocessing import OneHotEncoder\n",
    "from collinearity import SelectNonCollinear\n",
    "from sklearn.preprocessing import StandardScaler\n",
    "import numpy as np\n",
    "\n",
    "def remove_missing_rows(X, Y):\n",
    "    mask = np.isnan(X).sum(axis=1) == 0\n",
    "    return X[mask], Y[mask]\n",
    "\n",
    "def encode_categorical(X):\n",
    "    mask = np.array([isinstance(x, str) for x in X[0]])\n",
    "    if mask.sum() > 0:    \n",
    "        X = X[:, mask]\n",
    "        enc = OneHotEncoder(handle_unknown='ignore')\n",
    "        enc.fit(X)\n",
    "        X = enc.transform(X).toarray()\n",
    "    return X\n",
    "\n",
    "def remove_colinear(X, correlation_threshold=0.9):\n",
    "    # Source: https://github.com/gianlucamalato/collinearity\n",
    "    # 1. Take the couple of features that have the lowest absolute \n",
    "    #    value of the linear correlation coefficient.\n",
    "    # 2. If it's lower than the threshold, consider these features\n",
    "    # 3. Keep adding features as long as the correlation matrix doesn't\n",
    "    #    show off-diagonal elements whose absolute value is greater than the threshold.\n",
    "    selector = SelectNonCollinear(correlation_threshold=correlation_threshold)\n",
    "    selector.fit(X, y=None)\n",
    "    X = selector.transform(X)\n",
    "    columns_selection = selector.get_support()\n",
    "    return X, columns_selection   \n",
    "\n",
    "def scale_features(X):\n",
    "    scaler = StandardScaler()\n",
    "    scaler.fit(X)\n",
    "    X = scaler.transform(X)\n",
    "    return X"
   ]
  },
  {
   "attachments": {},
   "cell_type": "markdown",
   "metadata": {},
   "source": [
    "Before preparation:"
   ]
  },
  {
   "cell_type": "code",
   "execution_count": 53,
   "metadata": {},
   "outputs": [
    {
     "name": "stdout",
     "output_type": "stream",
     "text": [
      "In the raw data, there are 569 observations and 30 features.\n"
     ]
    }
   ],
   "source": [
    "print(f\"In the raw data, there are {X.shape[0]} observations and {X.shape[1]} features.\")"
   ]
  },
  {
   "attachments": {},
   "cell_type": "markdown",
   "metadata": {},
   "source": [
    "Dropping rows with missing values, encoding categorical variables, dropping features with correlation > 0.9, and scaling the data."
   ]
  },
  {
   "cell_type": "code",
   "execution_count": 54,
   "metadata": {},
   "outputs": [],
   "source": [
    "X, Y = remove_missing_rows(X, Y)\n",
    "X = encode_categorical(X)\n",
    "X, columns_selection = remove_colinear(X, correlation_threshold=0.9)"
   ]
  },
  {
   "attachments": {},
   "cell_type": "markdown",
   "metadata": {},
   "source": [
    "After preparation:"
   ]
  },
  {
   "cell_type": "code",
   "execution_count": 55,
   "metadata": {},
   "outputs": [
    {
     "name": "stdout",
     "output_type": "stream",
     "text": [
      "In the prepared data, there are 569 observations and 21 features (removed 9 features).\n"
     ]
    }
   ],
   "source": [
    "print(f\"In the prepared data, there are {X.shape[0]} observations and {X.shape[1]} features (removed {len(columns_selection) - np.array(columns_selection).sum()} features).\")"
   ]
  },
  {
   "attachments": {},
   "cell_type": "markdown",
   "metadata": {},
   "source": [
    "### Train/Test Split"
   ]
  },
  {
   "cell_type": "code",
   "execution_count": 56,
   "metadata": {},
   "outputs": [],
   "source": [
    "from sklearn.model_selection import train_test_split\n",
    "\n",
    "X_train, X_test, Y_train, Y_test = train_test_split(X, Y, test_size=0.2, random_state=42)"
   ]
  },
  {
   "attachments": {},
   "cell_type": "markdown",
   "metadata": {},
   "source": [
    "## Models and metrics"
   ]
  },
  {
   "cell_type": "code",
   "execution_count": 57,
   "metadata": {},
   "outputs": [],
   "source": [
    "import pandas as pd\n",
    "\n",
    "from sklearn.discriminant_analysis import LinearDiscriminantAnalysis\n",
    "from sklearn.discriminant_analysis import QuadraticDiscriminantAnalysis\n",
    "from sklearn.linear_model import LogisticRegression\n",
    "from LogisticRegressionIRLS import LR\n",
    "from sklearn.neighbors import KNeighborsClassifier\n",
    "from functools import partial\n",
    "\n",
    "class LRWrapper(LR):\n",
    "    def __init__(self, *args, **kwargs):\n",
    "        super().__init__(*args, **kwargs)\n",
    "\n",
    "    def fit(self, X, Y):\n",
    "        X = pd.DataFrame(X)\n",
    "        Y = Y.reshape(-1, 1)\n",
    "        super().fit(X, Y)\n",
    "        return self\n",
    "    \n",
    "    def predict(self, X):\n",
    "        X = pd.DataFrame(X)\n",
    "        Y = super().predict(X)\n",
    "        return Y\n",
    "\n",
    "models = {'LDA': LinearDiscriminantAnalysis,\n",
    "        'QDA': QuadraticDiscriminantAnalysis,\n",
    "        'Logistic Regression': LogisticRegression,\n",
    "        'Logistic Regression IRLS': partial(LRWrapper, maximisation_minorisation=True),\n",
    "        'KNN': KNeighborsClassifier}"
   ]
  },
  {
   "cell_type": "code",
   "execution_count": 58,
   "metadata": {},
   "outputs": [],
   "source": [
    "from sklearn.utils import resample\n",
    "from sklearn.metrics import precision_score, recall_score, accuracy_score, f1_score\n",
    "\n",
    "def metric_bootstrap(X, Y, model_class, n=10):\n",
    "    model = model_class()\n",
    "    error = 0\n",
    "    lenght_of_y = 0\n",
    "    for i in range(n):\n",
    "        sample_ids = resample(range(len(X)), replace=True, n_samples=len(X))\n",
    "\n",
    "        test_ids = [i for i in range(len(X)) if i not in sample_ids]\n",
    "        if len(sample_ids) == len(test_ids):\n",
    "            i -= 1\n",
    "            continue\n",
    "        lenght_of_y += len(test_ids)\n",
    "        train_ids = [i for i in range(len(X)) if i in sample_ids]\n",
    "        model.fit(X[train_ids], Y[train_ids])\n",
    "        y_pred = model.predict(X[test_ids])\n",
    "        for i in range(len(y_pred)):\n",
    "            if Y[test_ids[i]] != y_pred[i]:\n",
    "                error += 1\n",
    "    error_bootstrap = error / lenght_of_y\n",
    "    accuracy_bootstrap = 1 - error_bootstrap\n",
    "    return accuracy_bootstrap\n",
    "\n",
    "metrics = {'precision': partial(precision_score, zero_division=0),\n",
    "            'recall': recall_score,\n",
    "            'accuracy': accuracy_score,\n",
    "            'f1': f1_score,\n",
    "            'bootstrap': metric_bootstrap}"
   ]
  },
  {
   "attachments": {},
   "cell_type": "markdown",
   "metadata": {},
   "source": [
    "## Experiments"
   ]
  },
  {
   "attachments": {},
   "cell_type": "markdown",
   "metadata": {},
   "source": [
    "Test run."
   ]
  },
  {
   "cell_type": "code",
   "execution_count": 59,
   "metadata": {},
   "outputs": [
    {
     "data": {
      "text/html": [
       "<div>\n",
       "<style scoped>\n",
       "    .dataframe tbody tr th:only-of-type {\n",
       "        vertical-align: middle;\n",
       "    }\n",
       "\n",
       "    .dataframe tbody tr th {\n",
       "        vertical-align: top;\n",
       "    }\n",
       "\n",
       "    .dataframe thead th {\n",
       "        text-align: right;\n",
       "    }\n",
       "</style>\n",
       "<table border=\"1\" class=\"dataframe\">\n",
       "  <thead>\n",
       "    <tr style=\"text-align: right;\">\n",
       "      <th></th>\n",
       "      <th>model</th>\n",
       "      <th>precision</th>\n",
       "      <th>recall</th>\n",
       "      <th>accuracy</th>\n",
       "      <th>f1</th>\n",
       "      <th>bootstrap accuracy</th>\n",
       "    </tr>\n",
       "  </thead>\n",
       "  <tbody>\n",
       "    <tr>\n",
       "      <th>0</th>\n",
       "      <td>LDA</td>\n",
       "      <td>0.960526</td>\n",
       "      <td>0.986486</td>\n",
       "      <td>0.964912</td>\n",
       "      <td>0.973333</td>\n",
       "      <td>0.955926</td>\n",
       "    </tr>\n",
       "    <tr>\n",
       "      <th>1</th>\n",
       "      <td>QDA</td>\n",
       "      <td>0.972222</td>\n",
       "      <td>0.945946</td>\n",
       "      <td>0.947368</td>\n",
       "      <td>0.958904</td>\n",
       "      <td>0.950623</td>\n",
       "    </tr>\n",
       "    <tr>\n",
       "      <th>2</th>\n",
       "      <td>Logistic Regression</td>\n",
       "      <td>0.933333</td>\n",
       "      <td>0.945946</td>\n",
       "      <td>0.921053</td>\n",
       "      <td>0.939597</td>\n",
       "      <td>0.930176</td>\n",
       "    </tr>\n",
       "    <tr>\n",
       "      <th>3</th>\n",
       "      <td>Logistic Regression IRLS</td>\n",
       "      <td>0.959459</td>\n",
       "      <td>0.959459</td>\n",
       "      <td>0.947368</td>\n",
       "      <td>0.959459</td>\n",
       "      <td>0.966174</td>\n",
       "    </tr>\n",
       "    <tr>\n",
       "      <th>4</th>\n",
       "      <td>KNN</td>\n",
       "      <td>0.909091</td>\n",
       "      <td>0.945946</td>\n",
       "      <td>0.903509</td>\n",
       "      <td>0.927152</td>\n",
       "      <td>0.894140</td>\n",
       "    </tr>\n",
       "  </tbody>\n",
       "</table>\n",
       "</div>"
      ],
      "text/plain": [
       "                      model  precision    recall  accuracy        f1  \\\n",
       "0                       LDA   0.960526  0.986486  0.964912  0.973333   \n",
       "1                       QDA   0.972222  0.945946  0.947368  0.958904   \n",
       "2       Logistic Regression   0.933333  0.945946  0.921053  0.939597   \n",
       "3  Logistic Regression IRLS   0.959459  0.959459  0.947368  0.959459   \n",
       "4                       KNN   0.909091  0.945946  0.903509  0.927152   \n",
       "\n",
       "   bootstrap accuracy  \n",
       "0            0.955926  \n",
       "1            0.950623  \n",
       "2            0.930176  \n",
       "3            0.966174  \n",
       "4            0.894140  "
      ]
     },
     "execution_count": 59,
     "metadata": {},
     "output_type": "execute_result"
    }
   ],
   "source": [
    "import pandas as pd\n",
    "from warnings import simplefilter\n",
    "from sklearn.exceptions import ConvergenceWarning\n",
    "simplefilter(action='ignore', category=ConvergenceWarning)\n",
    "\n",
    "def train_model(model_class, X_train, X_test, Y_train, Y_test, metrics, model_name='model'):\n",
    "    X = np.concatenate((X_train, X_test))\n",
    "    Y = np.concatenate((Y_train, Y_test))\n",
    "    model = model_class()\n",
    "    model.fit(X_train, Y_train)\n",
    "    Y_pred = model.predict(X_test)\n",
    "    return {'model':model_name} |\\\n",
    "            {metric: metrics[metric](Y_test, Y_pred) for metric in metrics if metric != 'bootstrap'} |\\\n",
    "            {f'bootstrap accuracy': metrics['bootstrap'](X, Y, model_class)}\n",
    "\n",
    "def train_models(models, X, Y, metrics, test_size):\n",
    "    X_train, X_test, Y_train, Y_test = train_test_split(X, Y, test_size=test_size)\n",
    "    results = []\n",
    "    for model_name, model_class in models.items():\n",
    "        results.append(train_model(model_class, X_train, X_test, Y_train, Y_test, metrics, model_name=model_name))\n",
    "    df = pd.DataFrame(results)\n",
    "    return df\n",
    "\n",
    "df = train_models(models, X, Y, metrics, test_size=0.2)\n",
    "df"
   ]
  },
  {
   "attachments": {},
   "cell_type": "markdown",
   "metadata": {},
   "source": [
    "Repeated 10 times to create boxplots."
   ]
  },
  {
   "cell_type": "code",
   "execution_count": 60,
   "metadata": {},
   "outputs": [],
   "source": [
    "test_size = 0.6 # it is this high to see differences in the results\n",
    "\n",
    "df_list = []\n",
    "for i in range(50):\n",
    "    df_list.append(train_models(models, X, Y, metrics, test_size))\n",
    "df = pd.concat(df_list, ignore_index=True)\n",
    "df = df.melt(id_vars=['model'], var_name='metric', value_name='value')"
   ]
  },
  {
   "cell_type": "code",
   "execution_count": 61,
   "metadata": {},
   "outputs": [
    {
     "data": {
      "image/png": "[encoded data removed]",
      "text/plain": [
       "<Figure size 700x500 with 1 Axes>"
      ]
     },
     "metadata": {},
     "output_type": "display_data"
    }
   ],
   "source": [
    "import seaborn as sns\n",
    "import matplotlib.pyplot as plt\n",
    "\n",
    "fig, ax = plt.subplots(figsize=(7, 5))\n",
    "sns.boxplot(data=df, ax=ax, x='metric', y='value', hue='model', width=0.5)\n",
    "\n",
    "ax.set_title('Models compared for the Breast Cancer dataset')\n",
    "ax.set_xlabel('Metric')\n",
    "ax.set_ylabel('Metric value')\n",
    "ax.set_xticklabels([x.get_text().capitalize() for x in ax.get_xticklabels()])\n",
    "handles, labels = ax.get_legend_handles_labels()\n",
    "ax.legend(handles=handles, labels=labels, title='Model')\n",
    "plt.show()"
   ]
  }
 ],
 "metadata": {
  "kernelspec": {
   "display_name": "aml_lab",
   "language": "python",
   "name": "python3"
  },
  "language_info": {
   "codemirror_mode": {
    "name": "ipython",
    "version": 3
   },
   "file_extension": ".py",
   "mimetype": "text/x-python",
   "name": "python",
   "nbconvert_exporter": "python",
   "pygments_lexer": "ipython3",
   "version": "3.9.16"
  },
  "orig_nbformat": 4
 },
 "nbformat": 4,
 "nbformat_minor": 2
}
